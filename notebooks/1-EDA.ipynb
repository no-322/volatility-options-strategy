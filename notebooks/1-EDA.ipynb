{
 "cells": [
  {
   "cell_type": "code",
   "execution_count": 148,
   "metadata": {},
   "outputs": [],
   "source": [
    "#Importing libraries\n",
    "import pandas as pd\n",
    "import yfinance as yf\n",
    "import matplotlib.pyplot as plt\n",
    "import seaborn as sns\n",
    "from datetime import timedelta\n",
    "import numpy as np"
   ]
  },
  {
   "cell_type": "code",
   "execution_count": 102,
   "metadata": {},
   "outputs": [],
   "source": [
    "#Storing data\n",
    "try:\n",
    "    stock=pd.read_csv(r\"../data/stock.csv\")\n",
    "    vix=pd.read_csv(r\"../data/vix.csv\")\n",
    "except:\n",
    "    aapl=yf.Ticker(\"AAPL\")\n",
    "    stock=aapl.history(start=\"2023-05-31\",end=\"2025-05-31\",interval=\"1d\")\n",
    "    stock.to_csv(r\"../data/stock.csv\")\n",
    "    vix_ticker=yf.Ticker(\"^VIX\")\n",
    "    vix=vix_ticker.history(start=\"2023-05-31\",end=\"2025-05-31\",interval=\"1d\")\n",
    "    vix.to_csv(r\"../data/vix.csv\")\n"
   ]
  },
  {
   "cell_type": "code",
   "execution_count": null,
   "metadata": {},
   "outputs": [],
   "source": [
    "#Remove time from index as this is causing confusion because of timezone differences\n",
    "stock[\"Da\"]"
   ]
  },
  {
   "cell_type": "code",
   "execution_count": 106,
   "metadata": {},
   "outputs": [],
   "source": [
    "#Simple function that assumes 1.5% as the premium for Options\n",
    "def naive_premium(df):\n",
    "    df[\"OptionPremium\"]=df.Close*0.015"
   ]
  },
  {
   "cell_type": "code",
   "execution_count": 111,
   "metadata": {},
   "outputs": [
    {
     "data": {
      "text/html": [
       "<div>\n",
       "<style scoped>\n",
       "    .dataframe tbody tr th:only-of-type {\n",
       "        vertical-align: middle;\n",
       "    }\n",
       "\n",
       "    .dataframe tbody tr th {\n",
       "        vertical-align: top;\n",
       "    }\n",
       "\n",
       "    .dataframe thead th {\n",
       "        text-align: right;\n",
       "    }\n",
       "</style>\n",
       "<table border=\"1\" class=\"dataframe\">\n",
       "  <thead>\n",
       "    <tr style=\"text-align: right;\">\n",
       "      <th></th>\n",
       "      <th>Open</th>\n",
       "      <th>High</th>\n",
       "      <th>Low</th>\n",
       "      <th>Close</th>\n",
       "      <th>Volume</th>\n",
       "      <th>Dividends</th>\n",
       "      <th>Stock Splits</th>\n",
       "      <th>OptionPremium</th>\n",
       "    </tr>\n",
       "    <tr>\n",
       "      <th>Date</th>\n",
       "      <th></th>\n",
       "      <th></th>\n",
       "      <th></th>\n",
       "      <th></th>\n",
       "      <th></th>\n",
       "      <th></th>\n",
       "      <th></th>\n",
       "      <th></th>\n",
       "    </tr>\n",
       "  </thead>\n",
       "  <tbody>\n",
       "    <tr>\n",
       "      <th>2023-05-31 00:00:00-04:00</th>\n",
       "      <td>175.572113</td>\n",
       "      <td>177.572093</td>\n",
       "      <td>175.007757</td>\n",
       "      <td>175.492905</td>\n",
       "      <td>99625300</td>\n",
       "      <td>0.0</td>\n",
       "      <td>0.0</td>\n",
       "      <td>2.632394</td>\n",
       "    </tr>\n",
       "    <tr>\n",
       "      <th>2023-06-01 00:00:00-04:00</th>\n",
       "      <td>175.938456</td>\n",
       "      <td>178.334465</td>\n",
       "      <td>175.176085</td>\n",
       "      <td>178.304764</td>\n",
       "      <td>68901800</td>\n",
       "      <td>0.0</td>\n",
       "      <td>0.0</td>\n",
       "      <td>2.674571</td>\n",
       "    </tr>\n",
       "    <tr>\n",
       "      <th>2023-06-02 00:00:00-04:00</th>\n",
       "      <td>179.235428</td>\n",
       "      <td>179.977993</td>\n",
       "      <td>177.482970</td>\n",
       "      <td>179.156219</td>\n",
       "      <td>61945900</td>\n",
       "      <td>0.0</td>\n",
       "      <td>0.0</td>\n",
       "      <td>2.687343</td>\n",
       "    </tr>\n",
       "    <tr>\n",
       "      <th>2023-06-05 00:00:00-04:00</th>\n",
       "      <td>180.819588</td>\n",
       "      <td>183.116582</td>\n",
       "      <td>176.275078</td>\n",
       "      <td>177.799820</td>\n",
       "      <td>121946500</td>\n",
       "      <td>0.0</td>\n",
       "      <td>0.0</td>\n",
       "      <td>2.666997</td>\n",
       "    </tr>\n",
       "    <tr>\n",
       "      <th>2023-06-06 00:00:00-04:00</th>\n",
       "      <td>178.185963</td>\n",
       "      <td>178.334470</td>\n",
       "      <td>175.671133</td>\n",
       "      <td>177.433502</td>\n",
       "      <td>64848400</td>\n",
       "      <td>0.0</td>\n",
       "      <td>0.0</td>\n",
       "      <td>2.661503</td>\n",
       "    </tr>\n",
       "  </tbody>\n",
       "</table>\n",
       "</div>"
      ],
      "text/plain": [
       "                                 Open        High         Low       Close  \\\n",
       "Date                                                                        \n",
       "2023-05-31 00:00:00-04:00  175.572113  177.572093  175.007757  175.492905   \n",
       "2023-06-01 00:00:00-04:00  175.938456  178.334465  175.176085  178.304764   \n",
       "2023-06-02 00:00:00-04:00  179.235428  179.977993  177.482970  179.156219   \n",
       "2023-06-05 00:00:00-04:00  180.819588  183.116582  176.275078  177.799820   \n",
       "2023-06-06 00:00:00-04:00  178.185963  178.334470  175.671133  177.433502   \n",
       "\n",
       "                              Volume  Dividends  Stock Splits  OptionPremium  \n",
       "Date                                                                          \n",
       "2023-05-31 00:00:00-04:00   99625300        0.0           0.0       2.632394  \n",
       "2023-06-01 00:00:00-04:00   68901800        0.0           0.0       2.674571  \n",
       "2023-06-02 00:00:00-04:00   61945900        0.0           0.0       2.687343  \n",
       "2023-06-05 00:00:00-04:00  121946500        0.0           0.0       2.666997  \n",
       "2023-06-06 00:00:00-04:00   64848400        0.0           0.0       2.661503  "
      ]
     },
     "execution_count": 111,
     "metadata": {},
     "output_type": "execute_result"
    }
   ],
   "source": [
    "naive_premium(stock)\n",
    "stock.head()"
   ]
  },
  {
   "cell_type": "code",
   "execution_count": 108,
   "metadata": {},
   "outputs": [
    {
     "data": {
      "text/html": [
       "<div>\n",
       "<style scoped>\n",
       "    .dataframe tbody tr th:only-of-type {\n",
       "        vertical-align: middle;\n",
       "    }\n",
       "\n",
       "    .dataframe tbody tr th {\n",
       "        vertical-align: top;\n",
       "    }\n",
       "\n",
       "    .dataframe thead th {\n",
       "        text-align: right;\n",
       "    }\n",
       "</style>\n",
       "<table border=\"1\" class=\"dataframe\">\n",
       "  <thead>\n",
       "    <tr style=\"text-align: right;\">\n",
       "      <th></th>\n",
       "      <th>Open</th>\n",
       "      <th>High</th>\n",
       "      <th>Low</th>\n",
       "      <th>Close</th>\n",
       "      <th>Volume</th>\n",
       "      <th>Dividends</th>\n",
       "      <th>Stock Splits</th>\n",
       "    </tr>\n",
       "    <tr>\n",
       "      <th>Date</th>\n",
       "      <th></th>\n",
       "      <th></th>\n",
       "      <th></th>\n",
       "      <th></th>\n",
       "      <th></th>\n",
       "      <th></th>\n",
       "      <th></th>\n",
       "    </tr>\n",
       "  </thead>\n",
       "  <tbody>\n",
       "    <tr>\n",
       "      <th>2023-05-31 00:00:00-05:00</th>\n",
       "      <td>18.040001</td>\n",
       "      <td>18.40</td>\n",
       "      <td>17.120001</td>\n",
       "      <td>17.940001</td>\n",
       "      <td>0</td>\n",
       "      <td>0.0</td>\n",
       "      <td>0.0</td>\n",
       "    </tr>\n",
       "    <tr>\n",
       "      <th>2023-06-01 00:00:00-05:00</th>\n",
       "      <td>17.240000</td>\n",
       "      <td>17.59</td>\n",
       "      <td>15.580000</td>\n",
       "      <td>15.650000</td>\n",
       "      <td>0</td>\n",
       "      <td>0.0</td>\n",
       "      <td>0.0</td>\n",
       "    </tr>\n",
       "    <tr>\n",
       "      <th>2023-06-02 00:00:00-05:00</th>\n",
       "      <td>15.650000</td>\n",
       "      <td>15.65</td>\n",
       "      <td>14.420000</td>\n",
       "      <td>14.600000</td>\n",
       "      <td>0</td>\n",
       "      <td>0.0</td>\n",
       "      <td>0.0</td>\n",
       "    </tr>\n",
       "    <tr>\n",
       "      <th>2023-06-05 00:00:00-05:00</th>\n",
       "      <td>15.280000</td>\n",
       "      <td>15.29</td>\n",
       "      <td>14.660000</td>\n",
       "      <td>14.730000</td>\n",
       "      <td>0</td>\n",
       "      <td>0.0</td>\n",
       "      <td>0.0</td>\n",
       "    </tr>\n",
       "    <tr>\n",
       "      <th>2023-06-06 00:00:00-05:00</th>\n",
       "      <td>14.910000</td>\n",
       "      <td>14.97</td>\n",
       "      <td>13.950000</td>\n",
       "      <td>13.960000</td>\n",
       "      <td>0</td>\n",
       "      <td>0.0</td>\n",
       "      <td>0.0</td>\n",
       "    </tr>\n",
       "  </tbody>\n",
       "</table>\n",
       "</div>"
      ],
      "text/plain": [
       "                                Open   High        Low      Close  Volume  \\\n",
       "Date                                                                        \n",
       "2023-05-31 00:00:00-05:00  18.040001  18.40  17.120001  17.940001       0   \n",
       "2023-06-01 00:00:00-05:00  17.240000  17.59  15.580000  15.650000       0   \n",
       "2023-06-02 00:00:00-05:00  15.650000  15.65  14.420000  14.600000       0   \n",
       "2023-06-05 00:00:00-05:00  15.280000  15.29  14.660000  14.730000       0   \n",
       "2023-06-06 00:00:00-05:00  14.910000  14.97  13.950000  13.960000       0   \n",
       "\n",
       "                           Dividends  Stock Splits  \n",
       "Date                                                \n",
       "2023-05-31 00:00:00-05:00        0.0           0.0  \n",
       "2023-06-01 00:00:00-05:00        0.0           0.0  \n",
       "2023-06-02 00:00:00-05:00        0.0           0.0  \n",
       "2023-06-05 00:00:00-05:00        0.0           0.0  \n",
       "2023-06-06 00:00:00-05:00        0.0           0.0  "
      ]
     },
     "execution_count": 108,
     "metadata": {},
     "output_type": "execute_result"
    }
   ],
   "source": [
    "vix.head()"
   ]
  },
  {
   "attachments": {},
   "cell_type": "markdown",
   "metadata": {},
   "source": [
    "Assumption:\n",
    "1. The option premium is 1.5% of closing price "
   ]
  },
  {
   "cell_type": "code",
   "execution_count": 117,
   "metadata": {},
   "outputs": [
    {
     "data": {
      "text/plain": [
       "Text(0.5, 0, 'Date')"
      ]
     },
     "execution_count": 117,
     "metadata": {},
     "output_type": "execute_result"
    },
    {
     "data": {
      "image/png": "[encoded data removed]",
      "text/plain": [
       "<Figure size 640x480 with 1 Axes>"
      ]
     },
     "metadata": {},
     "output_type": "display_data"
    }
   ],
   "source": [
    "#Normalizing close values to compare how accurate vix is\n",
    "stock[\"NormalizedClose\"]=(stock.Close-stock.Close.min())/stock.Close.max()\n",
    "vix[\"NormalizedClose\"]=(vix.Close-vix.Close.min())/vix.Close.max()\n",
    "plt.plot(stock.index,stock.NormalizedClose,label=\"Stock\",color=\"red\")\n",
    "plt.plot(vix.index,vix.NormalizedClose,label=\"Volatility\",color=\"blue\")\n",
    "plt.legend()\n",
    "plt.xlabel(\"Date\")"
   ]
  },
  {
   "cell_type": "code",
   "execution_count": 146,
   "metadata": {},
   "outputs": [],
   "source": [
    "#This function applies a filter on volatility index and gets us a filtered stock dataframe\n",
    "#Since stock data and VIX have a difference in timezone, we can't directly compare\n",
    "#We use date for comparison\n",
    "def high_volatility_filter(df,vix,VolThreshold):\n",
    "    df_copy=df.copy()\n",
    "    vix_copy=vix.copy()\n",
    "    DatesToFilter=vix_copy[vix_copy.Close>VolThreshold].index.date\n",
    "    mask=np.isin(df_copy.index.date,DatesToFilter)\n",
    "    return df_copy.loc[mask]"
   ]
  },
  {
   "cell_type": "code",
   "execution_count": 149,
   "metadata": {},
   "outputs": [
    {
     "name": "stdout",
     "output_type": "stream",
     "text": [
      "265\n"
     ]
    },
    {
     "data": {
      "text/plain": [
       "502"
      ]
     },
     "execution_count": 149,
     "metadata": {},
     "output_type": "execute_result"
    }
   ],
   "source": [
    "filtered_stock=high_volatility_filter(stock,vix,15)"
   ]
  },
  {
   "cell_type": "code",
   "execution_count": null,
   "metadata": {},
   "outputs": [],
   "source": []
  }
 ],
 "metadata": {
  "kernelspec": {
   "display_name": "base",
   "language": "python",
   "name": "python3"
  },
  "language_info": {
   "codemirror_mode": {
    "name": "ipython",
    "version": 3
   },
   "file_extension": ".py",
   "mimetype": "text/x-python",
   "name": "python",
   "nbconvert_exporter": "python",
   "pygments_lexer": "ipython3",
   "version": "3.9.13"
  },
  "orig_nbformat": 4,
  "vscode": {
   "interpreter": {
    "hash": "5236ea743a22b6de7b78f9d0da4f70ea379a36cf41c181f4de378aea8ff257a0"
   }
  }
 },
 "nbformat": 4,
 "nbformat_minor": 2
}
